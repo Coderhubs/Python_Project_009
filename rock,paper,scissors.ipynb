{
  "nbformat": 4,
  "nbformat_minor": 0,
  "metadata": {
    "colab": {
      "provenance": [],
      "authorship_tag": "ABX9TyOlZz4+VYuvjj+KQCks9mBw",
      "include_colab_link": true
    },
    "kernelspec": {
      "name": "python3",
      "display_name": "Python 3"
    },
    "language_info": {
      "name": "python"
    }
  },
  "cells": [
    {
      "cell_type": "markdown",
      "metadata": {
        "id": "view-in-github",
        "colab_type": "text"
      },
      "source": [
        "<a href=\"https://colab.research.google.com/github/Coderhubs/Python_Project_009/blob/main/rock%2Cpaper%2Cscissors.ipynb\" target=\"_parent\"><img src=\"https://colab.research.google.com/assets/colab-badge.svg\" alt=\"Open In Colab\"/></a>"
      ]
    },
    {
      "cell_type": "code",
      "execution_count": 4,
      "metadata": {
        "id": "h-UPwOtMkY-1",
        "colab": {
          "base_uri": "https://localhost:8080/"
        },
        "outputId": "d99e4998-06b7-43af-aaa8-efe06180cddb"
      },
      "outputs": [
        {
          "output_type": "stream",
          "name": "stdout",
          "text": [
            "Enter 🪨 rock, 📄 paper, or ✂️ scissors: scissors\n",
            "You chose scissors 🆚 Computer chose rock.\n",
            "💻 Computer wins!\n",
            "📊 Score - You: 0 🆚 Computer: 1\n",
            "🔄 Do you want to play again? (yes/no): yes\n",
            "Enter 🪨 rock, 📄 paper, or ✂️ scissors: paper\n",
            "You chose paper 🆚 Computer chose paper.\n",
            "🤝 It's a tie!\n",
            "📊 Score - You: 0 🆚 Computer: 1\n",
            "🔄 Do you want to play again? (yes/no): no\n",
            "🎮 Thanks for playing! 👋\n"
          ]
        }
      ],
      "source": [
        "import random\n",
        "\n",
        "def get_user_choice():\n",
        "    user_choice = input(\"Enter 🪨 rock, 📄 paper, or ✂️ scissors: \").lower()\n",
        "    while user_choice not in [\"rock\", \"paper\", \"scissors\"]:\n",
        "        print(\"❌ Invalid choice. Try again.\")\n",
        "        user_choice = input(\"Enter 🪨 rock, 📄 paper, or ✂️ scissors: \").lower()\n",
        "    return user_choice\n",
        "\n",
        "def get_computer_choice():\n",
        "    return random.choice([\"rock\", \"paper\", \"scissors\"])\n",
        "\n",
        "def determine_winner(user, computer):\n",
        "    if user == computer:\n",
        "        return \"🤝 It's a tie!\"\n",
        "    elif (user == \"rock\" and computer == \"scissors\") or \\\n",
        "         (user == \"scissors\" and computer == \"paper\") or \\\n",
        "         (user == \"paper\" and computer == \"rock\"):\n",
        "        return \"🎉 You win!\"\n",
        "    else:\n",
        "        return \"💻 Computer wins!\"\n",
        "\n",
        "def play_game():\n",
        "    user_score = 0\n",
        "    computer_score = 0\n",
        "    while True:\n",
        "        user_choice = get_user_choice()\n",
        "        computer_choice = get_computer_choice()\n",
        "        print(f\"You chose {user_choice} 🆚 Computer chose {computer_choice}.\")\n",
        "        result = determine_winner(user_choice, computer_choice)\n",
        "        print(result)\n",
        "\n",
        "        if result == \"🎉 You win!\":\n",
        "            user_score += 1\n",
        "        elif result == \"💻 Computer wins!\":\n",
        "            computer_score += 1\n",
        "\n",
        "        print(f\"📊 Score - You: {user_score} 🆚 Computer: {computer_score}\")\n",
        "\n",
        "        play_again = input(\"🔄 Do you want to play again? (yes/no): \").lower()\n",
        "        if play_again != \"yes\":\n",
        "            print(\"🎮 Thanks for playing! 👋\")\n",
        "            break\n",
        "\n",
        "if __name__ == \"__main__\":\n",
        "    play_game()\n"
      ]
    }
  ]
}
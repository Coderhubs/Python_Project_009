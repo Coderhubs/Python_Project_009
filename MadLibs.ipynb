{
  "nbformat": 4,
  "nbformat_minor": 0,
  "metadata": {
    "colab": {
      "provenance": [],
      "authorship_tag": "ABX9TyNBljf7tvEKRQO8k5atWkqt",
      "include_colab_link": true
    },
    "kernelspec": {
      "name": "python3",
      "display_name": "Python 3"
    },
    "language_info": {
      "name": "python"
    }
  },
  "cells": [
    {
      "cell_type": "markdown",
      "metadata": {
        "id": "view-in-github",
        "colab_type": "text"
      },
      "source": [
        "<a href=\"https://colab.research.google.com/github/Coderhubs/Python_Project_009/blob/main/MadLibs.ipynb\" target=\"_parent\"><img src=\"https://colab.research.google.com/assets/colab-badge.svg\" alt=\"Open In Colab\"/></a>"
      ]
    },
    {
      "cell_type": "code",
      "execution_count": 2,
      "metadata": {
        "colab": {
          "base_uri": "https://localhost:8080/"
        },
        "id": "RGYfzfkkM-L7",
        "outputId": "ba57a4e4-a6e3-4990-d57c-985afef1800e"
      },
      "outputs": [
        {
          "output_type": "stream",
          "name": "stdout",
          "text": [
            "🔍 Welcome to the 🕵️ Mystery Adventure Mad Libs! 🕵️‍♀️\n",
            "\n",
            "📝 Enter a detective's name: ainie\n",
            "🎨 Enter an adjective: beautiful\n",
            "🎭 Enter another adjective: ugly\n",
            "📦 Enter a mysterious object (noun): magic box\n",
            "🏃 Enter a verb (past tense): walked\n",
            "🌍 Enter a location: Washington DC\n",
            "🐾 Enter an animal: Unicorn \n",
            "🔊 Enter a sound (e.g., 'meow', 'bang!'): bang\n",
            "🛠️ Enter a detective gadget (noun): guN\n",
            "\n",
            "📜 Here is your Mystery Adventure Story: 📜\n",
            "\n",
            "\n",
            "🔍 Detective ainie was having a beautiful day when suddenly, a ugly case arrived! 🚨\n",
            "Someone had stolen the precious magic box from Washington DC! 😱\n",
            "With a sharp eye 👀, Detective ainie walked to the scene.\n",
            "There, a suspicious Unicorn  🐾 was found making a strange 'bang' sound. 🎶\n",
            "Detective ainie pulled out their guN 🛠️ and examined the clues carefully.\n",
            "Would they solve the case in time ⏳, or would the thief escape forever?\n",
            "The mystery had just begun... 🔎✨\n",
            "\n"
          ]
        }
      ],
      "source": [
        "# 🎭 Mystery Adventure Mad Libs 🎭\n",
        "\n",
        "print(\"🔍 Welcome to the 🕵️ Mystery Adventure Mad Libs! 🕵️‍♀️\\n\")\n",
        "\n",
        "# Collecting user input with emojis for fun\n",
        "name = input(\"📝 Enter a detective's name: \")\n",
        "adjective1 = input(\"🎨 Enter an adjective: \")\n",
        "adjective2 = input(\"🎭 Enter another adjective: \")\n",
        "noun1 = input(\"📦 Enter a mysterious object (noun): \")\n",
        "verb1 = input(\"🏃 Enter a verb (past tense): \")\n",
        "place = input(\"🌍 Enter a location: \")\n",
        "animal = input(\"🐾 Enter an animal: \")\n",
        "sound = input(\"🔊 Enter a sound (e.g., 'meow', 'bang!'): \")\n",
        "object1 = input(\"🛠️ Enter a detective gadget (noun): \")\n",
        "\n",
        "# Creating the Mad Libs story with emojis\n",
        "story = f\"\"\"\n",
        "🔍 Detective {name} was having a {adjective1} day when suddenly, a {adjective2} case arrived! 🚨\n",
        "Someone had stolen the precious {noun1} from {place}! 😱\n",
        "With a sharp eye 👀, Detective {name} {verb1} to the scene.\n",
        "There, a suspicious {animal} 🐾 was found making a strange '{sound}' sound. 🎶\n",
        "Detective {name} pulled out their {object1} 🛠️ and examined the clues carefully.\n",
        "Would they solve the case in time ⏳, or would the thief escape forever?\n",
        "The mystery had just begun... 🔎✨\n",
        "\"\"\"\n",
        "\n",
        "# Display the final story with emojis\n",
        "print(\"\\n📜 Here is your Mystery Adventure Story: 📜\\n\")\n",
        "print(story)\n"
      ]
    }
  ]
}
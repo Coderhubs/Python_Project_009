{
  "nbformat": 4,
  "nbformat_minor": 0,
  "metadata": {
    "colab": {
      "provenance": [],
      "authorship_tag": "ABX9TyNvt1NX0MdJrrgFvvmRS49m",
      "include_colab_link": true
    },
    "kernelspec": {
      "name": "python3",
      "display_name": "Python 3"
    },
    "language_info": {
      "name": "python"
    }
  },
  "cells": [
    {
      "cell_type": "markdown",
      "metadata": {
        "id": "view-in-github",
        "colab_type": "text"
      },
      "source": [
        "<a href=\"https://colab.research.google.com/github/Coderhubs/Python_Project_009/blob/main/UserGuess.ipynb\" target=\"_parent\"><img src=\"https://colab.research.google.com/assets/colab-badge.svg\" alt=\"Open In Colab\"/></a>"
      ]
    },
    {
      "cell_type": "code",
      "execution_count": 3,
      "metadata": {
        "colab": {
          "base_uri": "https://localhost:8080/"
        },
        "id": "QV6mUQsdisqG",
        "outputId": "8152ec32-db23-413f-bdaa-ae36f40a112a"
      },
      "outputs": [
        {
          "output_type": "stream",
          "name": "stdout",
          "text": [
            "I have chosen a number between 1 and 10. Try to guess it!\n",
            "Enter your guess: 5\n",
            "Too low! Try again.\n",
            "Enter your guess: 4\n",
            "Too low! Try again.\n",
            "Enter your guess: 7\n",
            "Too low! Try again.\n",
            "Enter your guess: 10\n",
            "Too high! Try again.\n",
            "Enter your guess: 8\n",
            "Congratulations! You guessed the number 8 correctly!\n"
          ]
        }
      ],
      "source": [
        "import random\n",
        "\n",
        "def user_guess():\n",
        "    number = random.randint(1, 10)\n",
        "    guess = 0\n",
        "    print(\"I have chosen a number between 1 and 10. Try to guess it!\")\n",
        "\n",
        "    while guess != number:\n",
        "        try:\n",
        "            guess = int(input(\"Enter your guess: \"))\n",
        "            if guess < number:\n",
        "                print(\"Too low! Try again.\")\n",
        "            elif guess > number:\n",
        "                print(\"Too high! Try again.\")\n",
        "        except ValueError:\n",
        "            print(\"Please enter a valid number.\")\n",
        "\n",
        "    print(f\"Congratulations! You guessed the number {number} correctly!\")\n",
        "\n",
        "user_guess()\n"
      ]
    }
  ]
}
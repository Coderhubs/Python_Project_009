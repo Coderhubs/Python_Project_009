{
  "nbformat": 4,
  "nbformat_minor": 0,
  "metadata": {
    "colab": {
      "provenance": [],
      "authorship_tag": "ABX9TyMsX4hXCKmL0x7RseDXg8KY",
      "include_colab_link": true
    },
    "kernelspec": {
      "name": "python3",
      "display_name": "Python 3"
    },
    "language_info": {
      "name": "python"
    }
  },
  "cells": [
    {
      "cell_type": "markdown",
      "metadata": {
        "id": "view-in-github",
        "colab_type": "text"
      },
      "source": [
        "<a href=\"https://colab.research.google.com/github/Coderhubs/Python_Project_009/blob/main/Computer_Guess.ipynb\" target=\"_parent\"><img src=\"https://colab.research.google.com/assets/colab-badge.svg\" alt=\"Open In Colab\"/></a>"
      ]
    },
    {
      "cell_type": "code",
      "source": [
        "import random\n",
        "\n",
        "def computer_guess():\n",
        "    print(\"Think of a number between 1 and 100, and I'll try to guess it!\")\n",
        "    low = 1\n",
        "    high = 100\n",
        "    attempts = 0\n",
        "\n",
        "    while True:\n",
        "        guess = random.randint(low, high)\n",
        "        attempts += 1\n",
        "\n",
        "        print(f\"Is it {guess}? (Type 'h' if your number is higher, 'l' if lower, 'c' if correct)\")\n",
        "        feedback = input().strip().lower()\n",
        "\n",
        "        if feedback == 'c':\n",
        "            print(f\"Yay! I guessed your number {guess} in {attempts} attempts!\")\n",
        "            break\n",
        "        elif feedback == 'h':\n",
        "            low = guess + 1\n",
        "        elif feedback == 'l':\n",
        "            high = guess - 1\n",
        "        else:\n",
        "            print(\"Invalid input. Please enter 'h', 'l', or 'c'.\")\n",
        "\n",
        "computer_guess()\n"
      ],
      "metadata": {
        "colab": {
          "base_uri": "https://localhost:8080/"
        },
        "id": "J-MTkLd3fOE_",
        "outputId": "eb70062f-d488-4e29-ebd6-3e6143f62a62"
      },
      "execution_count": 3,
      "outputs": [
        {
          "output_type": "stream",
          "name": "stdout",
          "text": [
            "Think of a number between 1 and 100, and I'll try to guess it!\n",
            "Is it 18? (Type 'h' if your number is higher, 'l' if lower, 'c' if correct)\n",
            "h\n",
            "Is it 48? (Type 'h' if your number is higher, 'l' if lower, 'c' if correct)\n",
            "h\n",
            "Is it 69? (Type 'h' if your number is higher, 'l' if lower, 'c' if correct)\n",
            "h\n",
            "Is it 76? (Type 'h' if your number is higher, 'l' if lower, 'c' if correct)\n",
            "h\n",
            "Is it 79? (Type 'h' if your number is higher, 'l' if lower, 'c' if correct)\n",
            "h\n",
            "Is it 90? (Type 'h' if your number is higher, 'l' if lower, 'c' if correct)\n",
            "h\n",
            "Is it 99? (Type 'h' if your number is higher, 'l' if lower, 'c' if correct)\n",
            "h\n",
            "Is it 100? (Type 'h' if your number is higher, 'l' if lower, 'c' if correct)\n",
            "c\n",
            "Yay! I guessed your number 100 in 8 attempts!\n"
          ]
        }
      ]
    }
  ]
}
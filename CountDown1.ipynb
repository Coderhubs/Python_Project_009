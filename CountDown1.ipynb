{
  "nbformat": 4,
  "nbformat_minor": 0,
  "metadata": {
    "colab": {
      "provenance": [],
      "authorship_tag": "ABX9TyO7HKTZ3MqJkyE8DFc4+Bw1",
      "include_colab_link": true
    },
    "kernelspec": {
      "name": "python3",
      "display_name": "Python 3"
    },
    "language_info": {
      "name": "python"
    }
  },
  "cells": [
    {
      "cell_type": "markdown",
      "metadata": {
        "id": "view-in-github",
        "colab_type": "text"
      },
      "source": [
        "<a href=\"https://colab.research.google.com/github/Coderhubs/Python_Project_009/blob/main/CountDown1.ipynb\" target=\"_parent\"><img src=\"https://colab.research.google.com/assets/colab-badge.svg\" alt=\"Open In Colab\"/></a>"
      ]
    },
    {
      "cell_type": "code",
      "execution_count": 5,
      "metadata": {
        "colab": {
          "base_uri": "https://localhost:8080/"
        },
        "id": "qVA81kOXriiP",
        "outputId": "9e108d9d-b346-41c6-d663-abbfddd116dc"
      },
      "outputs": [
        {
          "output_type": "stream",
          "name": "stdout",
          "text": [
            "Enter the countdown time in seconds: 10\n",
            "⏳ Time Remaining: 00:00:01\n",
            "🎉 Time's up! 🎉\n"
          ]
        }
      ],
      "source": [
        "import time\n",
        "\n",
        "def countdown_timer(total_seconds):\n",
        "    while total_seconds > 0:\n",
        "        hours, remainder = divmod(total_seconds, 3600)\n",
        "        minutes, seconds = divmod(remainder, 60)\n",
        "        print(f\"\\r⏳ Time Remaining: {hours:02}:{minutes:02}:{seconds:02}\", end=\"\")\n",
        "        time.sleep(1)\n",
        "        total_seconds -= 1\n",
        "    print(\"\\n🎉 Time's up! 🎉\")\n",
        "\n",
        "if __name__ == \"__main__\":\n",
        "    try:\n",
        "        total_seconds = int(input(\"Enter the countdown time in seconds: \"))\n",
        "        if total_seconds > 0:\n",
        "            countdown_timer(total_seconds)\n",
        "        else:\n",
        "            print(\"⚠️ Please enter a positive number.\")\n",
        "    except ValueError:\n",
        "        print(\"⚠️ Invalid input! Please enter an integer.\")\n"
      ]
    }
  ]
}
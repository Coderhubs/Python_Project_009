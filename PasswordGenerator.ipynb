{
  "nbformat": 4,
  "nbformat_minor": 0,
  "metadata": {
    "colab": {
      "provenance": [],
      "authorship_tag": "ABX9TyOo7bFVvSk4tW554WH9eOjS",
      "include_colab_link": true
    },
    "kernelspec": {
      "name": "python3",
      "display_name": "Python 3"
    },
    "language_info": {
      "name": "python"
    }
  },
  "cells": [
    {
      "cell_type": "markdown",
      "metadata": {
        "id": "view-in-github",
        "colab_type": "text"
      },
      "source": [
        "<a href=\"https://colab.research.google.com/github/Coderhubs/Python_Project_009/blob/main/PasswordGenerator.ipynb\" target=\"_parent\"><img src=\"https://colab.research.google.com/assets/colab-badge.svg\" alt=\"Open In Colab\"/></a>"
      ]
    },
    {
      "cell_type": "code",
      "source": [
        "import random\n",
        "import string\n",
        "\n",
        "def generate_password(length):\n",
        "    characters = string.ascii_letters + string.digits + string.punctuation\n",
        "    return \"\".join(random.choice(characters) for _ in range(length))\n",
        "\n",
        "num_passwords = int(input(\"How many passwords do you want? \"))\n",
        "length = int(input(\"Enter password length: \"))\n",
        "\n",
        "passwords = [generate_password(length) for _ in range(num_passwords)]\n",
        "\n",
        "print(\"\\nGenerated Passwords:\")\n",
        "for password in passwords:\n",
        "    print(password)\n"
      ],
      "metadata": {
        "colab": {
          "base_uri": "https://localhost:8080/"
        },
        "id": "QMO5e64euEAI",
        "outputId": "b4af314c-d990-498a-8011-d40112c829ac"
      },
      "execution_count": 2,
      "outputs": [
        {
          "output_type": "stream",
          "name": "stdout",
          "text": [
            "How many passwords do you want? 10\n",
            "Enter password length: 5\n",
            "\n",
            "Generated Passwords:\n",
            "l&,aL\n",
            "3R|HJ\n",
            "ZX)@^\n",
            ",V=C|\n",
            "p.t2g\n",
            "Ww\\_g\n",
            ",UsT+\n",
            "d0KYC\n",
            "5JoZT\n",
            "h?@CO\n"
          ]
        }
      ]
    }
  ]
}